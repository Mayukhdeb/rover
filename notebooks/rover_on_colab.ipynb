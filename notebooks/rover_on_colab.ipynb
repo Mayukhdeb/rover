{
  "nbformat": 4,
  "nbformat_minor": 0,
  "metadata": {
    "colab": {
      "name": "rover_on_colab.ipynb",
      "provenance": []
    },
    "kernelspec": {
      "name": "python3",
      "display_name": "Python 3"
    },
    "language_info": {
      "name": "python"
    },
    "accelerator": "GPU"
  },
  "cells": [
    {
      "cell_type": "code",
      "metadata": {
        "colab": {
          "base_uri": "https://localhost:8080/"
        },
        "id": "j_97PfXQd6Cl",
        "outputId": "bc572ef2-f126-4dae-feed-5ea12a0d1ef4"
      },
      "source": [
        "!unzip rover-master.zip\n",
        "!pip install torch-dreams --quiet\n",
        "!pip install streamlit --quiet"
      ],
      "execution_count": 6,
      "outputs": [
        {
          "output_type": "stream",
          "text": [
            "unzip:  cannot find or open rover-master.zip, rover-master.zip.zip or rover-master.zip.ZIP.\n"
          ],
          "name": "stdout"
        }
      ]
    },
    {
      "cell_type": "code",
      "metadata": {
        "id": "p67aGUxNeBEt"
      },
      "source": [
        "#@title Navigate into the repo\n",
        "import os \n",
        "os.chdir('rover-master')"
      ],
      "execution_count": 2,
      "outputs": []
    },
    {
      "cell_type": "code",
      "metadata": {
        "id": "ZsbHBrH8hTt3"
      },
      "source": [
        "#@title Run model server (on a thread)\n",
        "import threading\n",
        "\n",
        "proc = threading.Thread(target= os.system, args=['streamlit run explore.py'])\n",
        "proc.start()"
      ],
      "execution_count": 3,
      "outputs": []
    },
    {
      "cell_type": "code",
      "metadata": {
        "colab": {
          "base_uri": "https://localhost:8080/"
        },
        "id": "7NcnFKx_gjWD",
        "outputId": "3f116728-ee7e-49c2-d55d-a34a4eed1cd1"
      },
      "source": [
        "#@title Ngrok to the rescue\n",
        "! wget https://bin.equinox.io/c/4VmDzA7iaHb/ngrok-stable-linux-amd64.zip\n",
        "! unzip -o ngrok-stable-linux-amd64.zip\n",
        "get_ipython().system_raw('./ngrok http 8501 &')"
      ],
      "execution_count": 9,
      "outputs": [
        {
          "output_type": "stream",
          "text": [
            "--2021-05-17 09:07:45--  https://bin.equinox.io/c/4VmDzA7iaHb/ngrok-stable-linux-amd64.zip\n",
            "Resolving bin.equinox.io (bin.equinox.io)... 3.227.65.201, 54.209.238.187, 34.202.43.88, ...\n",
            "Connecting to bin.equinox.io (bin.equinox.io)|3.227.65.201|:443... connected.\n",
            "HTTP request sent, awaiting response... 200 OK\n",
            "Length: 13832437 (13M) [application/octet-stream]\n",
            "Saving to: ‘ngrok-stable-linux-amd64.zip.2’\n",
            "\n",
            "ngrok-stable-linux- 100%[===================>]  13.19M  6.06MB/s    in 2.2s    \n",
            "\n",
            "2021-05-17 09:07:48 (6.06 MB/s) - ‘ngrok-stable-linux-amd64.zip.2’ saved [13832437/13832437]\n",
            "\n",
            "Archive:  ngrok-stable-linux-amd64.zip\n",
            "  inflating: ngrok                   \n"
          ],
          "name": "stdout"
        }
      ]
    },
    {
      "cell_type": "code",
      "metadata": {
        "colab": {
          "base_uri": "https://localhost:8080/"
        },
        "id": "svTV0KgKg9qk",
        "outputId": "9ae05f37-ffbc-4e81-c0b4-68e5231554cf"
      },
      "source": [
        "#@title Get URL\n",
        "! curl -s http://localhost:4040/api/tunnels | python3 -c \\\n",
        "    \"import sys, json; print(json.load(sys.stdin)['tunnels'][0]['public_url'])\""
      ],
      "execution_count": 10,
      "outputs": [
        {
          "output_type": "stream",
          "text": [
            "https://4346a361947c.ngrok.io\n"
          ],
          "name": "stdout"
        }
      ]
    },
    {
      "cell_type": "code",
      "metadata": {
        "id": "qBV_uG8NlMtg"
      },
      "source": [
        ""
      ],
      "execution_count": null,
      "outputs": []
    }
  ]
}