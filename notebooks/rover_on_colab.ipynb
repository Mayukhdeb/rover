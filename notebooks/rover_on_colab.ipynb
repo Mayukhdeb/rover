{
  "nbformat": 4,
  "nbformat_minor": 0,
  "metadata": {
    "colab": {
      "name": "rover_on_colab.ipynb",
      "provenance": []
    },
    "kernelspec": {
      "name": "python3",
      "display_name": "Python 3"
    },
    "language_info": {
      "name": "python"
    },
    "accelerator": "GPU"
  },
  "cells": [
    {
      "cell_type": "code",
      "metadata": {
        "colab": {
          "base_uri": "https://localhost:8080/"
        },
        "id": "j_97PfXQd6Cl",
        "outputId": "bc572ef2-f126-4dae-feed-5ea12a0d1ef4"
      },
      "source": [
        "!git clone https://github.com/Mayukhdeb/rover.git\n",
        "!pip install torch-dreams --quiet\n",
        "!pip install streamlit --quiet"
      ],
      "execution_count": null,
      "outputs": [
        {
          "output_type": "stream",
          "text": [
            "unzip:  cannot find or open rover-master.zip, rover-master.zip.zip or rover-master.zip.ZIP.\n"
          ],
          "name": "stdout"
        }
      ]
    },
    {
      "cell_type": "code",
      "metadata": {
        "id": "p67aGUxNeBEt"
      },
      "source": [
        "#@title Navigate into the repo\n",
        "import os \n",
        "os.chdir('rover')"
      ],
      "execution_count": null,
      "outputs": []
    },
    {
      "cell_type": "code",
      "metadata": {
        "id": "ZsbHBrH8hTt3"
      },
      "source": [
        "#@title Run model server (on a thread)\n",
        "import threading\n",
        "\n",
        "proc = threading.Thread(target= os.system, args=['streamlit run test.py'])\n",
        "proc.start()"
      ],
      "execution_count": null,
      "outputs": []
    },
    {
      "cell_type": "code",
      "metadata": {
        "id": "7NcnFKx_gjWD"
      },
      "source": [
        "#@title Ngrok to the rescue\n",
        "! wget https://bin.equinox.io/c/4VmDzA7iaHb/ngrok-stable-linux-amd64.zip\n",
        "! unzip -o ngrok-stable-linux-amd64.zip\n",
        "get_ipython().system_raw('./ngrok http 8501 &')"
      ],
      "execution_count": null,
      "outputs": []
    },
    {
      "cell_type": "code",
      "metadata": {
        "id": "svTV0KgKg9qk"
      },
      "source": [
        "#@title Get URL\n",
        "! curl -s http://localhost:4040/api/tunnels | python3 -c \\\n",
        "    \"import sys, json; print(json.load(sys.stdin)['tunnels'][0]['public_url'])\""
      ],
      "execution_count": null,
      "outputs": []
    },
    {
      "cell_type": "code",
      "metadata": {
        "id": "qBV_uG8NlMtg"
      },
      "source": [
        ""
      ],
      "execution_count": null,
      "outputs": []
    }
  ]
}