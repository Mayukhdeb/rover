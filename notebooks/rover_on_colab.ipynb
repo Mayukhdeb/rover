{
  "nbformat": 4,
  "nbformat_minor": 0,
  "metadata": {
    "colab": {
      "name": "rover_on_colab.ipynb",
      "provenance": []
    },
    "kernelspec": {
      "name": "python3",
      "display_name": "Python 3"
    },
    "language_info": {
      "name": "python"
    },
    "accelerator": "GPU"
  },
  "cells": [
    {
      "cell_type": "code",
      "metadata": {
        "id": "j_97PfXQd6Cl"
      },
      "source": [
        "pip install git+https://github.com/Mayukhdeb/rover.git"
      ],
      "execution_count": null,
      "outputs": []
    },
    {
      "cell_type": "code",
      "metadata": {
        "id": "7tC4r72d9rPI"
      },
      "source": [
        "%%writefile -a test.py\n",
        "\n",
        "from rover import core\n",
        "from rover.default_models import models_dict\n",
        "\n",
        "core.run(models_dict = models_dict)"
      ],
      "execution_count": null,
      "outputs": []
    },
    {
      "cell_type": "code",
      "metadata": {
        "id": "ZsbHBrH8hTt3"
      },
      "source": [
        "#@title Run model server (on a thread)\n",
        "import threading\n",
        "\n",
        "proc = threading.Thread(target= os.system, args=['streamlit run test.py'])\n",
        "proc.start()"
      ],
      "execution_count": 4,
      "outputs": []
    },
    {
      "cell_type": "code",
      "metadata": {
        "id": "7NcnFKx_gjWD"
      },
      "source": [
        "#@title Ngrok to the rescue\n",
        "! wget https://bin.equinox.io/c/4VmDzA7iaHb/ngrok-stable-linux-amd64.zip\n",
        "! unzip -o ngrok-stable-linux-amd64.zip\n",
        "get_ipython().system_raw('./ngrok http 8501 &')"
      ],
      "execution_count": null,
      "outputs": []
    },
    {
      "cell_type": "code",
      "metadata": {
        "id": "svTV0KgKg9qk",
        "outputId": "353cbedf-17d1-4a82-96ee-4b31bf5b1a3d",
        "colab": {
          "base_uri": "https://localhost:8080/"
        }
      },
      "source": [
        "#@title Get URL\n",
        "! curl -s http://localhost:4040/api/tunnels | python3 -c \\\n",
        "    \"import sys, json; print(json.load(sys.stdin)['tunnels'][0]['public_url'])\""
      ],
      "execution_count": 6,
      "outputs": [
        {
          "output_type": "stream",
          "text": [
            "http://929371891881.ngrok.io\n"
          ],
          "name": "stdout"
        }
      ]
    },
    {
      "cell_type": "code",
      "metadata": {
        "id": "qBV_uG8NlMtg"
      },
      "source": [
        ""
      ],
      "execution_count": null,
      "outputs": []
    }
  ]
}