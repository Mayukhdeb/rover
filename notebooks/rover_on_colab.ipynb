{
  "nbformat": 4,
  "nbformat_minor": 0,
  "metadata": {
    "colab": {
      "name": "rover_on_colab.ipynb",
      "provenance": []
    },
    "kernelspec": {
      "name": "python3",
      "display_name": "Python 3"
    },
    "language_info": {
      "name": "python"
    },
    "accelerator": "GPU"
  },
  "cells": [
    {
      "cell_type": "code",
      "metadata": {
        "id": "j_97PfXQd6Cl"
      },
      "source": [
        "!git clone https://github.com/Mayukhdeb/rover.git\n",
        "!pip install torch-dreams --quiet\n",
        "!pip install streamlit --quiet"
      ],
      "execution_count": null,
      "outputs": []
    },
    {
      "cell_type": "code",
      "metadata": {
        "id": "p67aGUxNeBEt"
      },
      "source": [
        "#@title Navigate into the repo\n",
        "import os \n",
        "os.chdir('rover')"
      ],
      "execution_count": 2,
      "outputs": []
    },
    {
      "cell_type": "code",
      "metadata": {
        "id": "ozGSJKDCmi7n",
        "outputId": "0c9b080e-5662-4e1c-f10a-8f22c02401ce",
        "colab": {
          "base_uri": "https://localhost:8080/"
        }
      },
      "source": [
        "!ls"
      ],
      "execution_count": 3,
      "outputs": [
        {
          "output_type": "stream",
          "text": [
            "images\tnotebooks  README.md  requirements.txt\trover  setup.py  test.py\n"
          ],
          "name": "stdout"
        }
      ]
    },
    {
      "cell_type": "code",
      "metadata": {
        "id": "8Pb2wkpHNSPO",
        "outputId": "df4ffc7c-571e-4ac8-8d3f-91898faa174c",
        "colab": {
          "base_uri": "https://localhost:8080/"
        }
      },
      "source": [
        "%%writefile  test.py\n",
        "\n",
        "from rover import core\n",
        "from rover.default_models import models_dict\n",
        "\n",
        "core.run(models_dict = models_dict)"
      ],
      "execution_count": 4,
      "outputs": [
        {
          "output_type": "stream",
          "text": [
            "Overwriting test.py\n"
          ],
          "name": "stdout"
        }
      ]
    },
    {
      "cell_type": "code",
      "metadata": {
        "id": "ZsbHBrH8hTt3"
      },
      "source": [
        "#@title Run model server (on a thread)\n",
        "import threading\n",
        "\n",
        "proc = threading.Thread(target= os.system, args=['streamlit run test.py'])\n",
        "proc.start()"
      ],
      "execution_count": 5,
      "outputs": []
    },
    {
      "cell_type": "code",
      "metadata": {
        "id": "7NcnFKx_gjWD"
      },
      "source": [
        "#@title Ngrok to the rescue\n",
        "! wget https://bin.equinox.io/c/4VmDzA7iaHb/ngrok-stable-linux-amd64.zip\n",
        "! unzip -o ngrok-stable-linux-amd64.zip\n",
        "get_ipython().system_raw('./ngrok http 8501 &')"
      ],
      "execution_count": null,
      "outputs": []
    },
    {
      "cell_type": "code",
      "metadata": {
        "id": "svTV0KgKg9qk",
        "outputId": "53da9436-b32b-4e39-e269-cfbda9e5ffa8",
        "colab": {
          "base_uri": "https://localhost:8080/"
        }
      },
      "source": [
        "#@title Get URL (might have to run it twice)\n",
        "! curl -s http://localhost:4040/api/tunnels | python3 -c \\\n",
        "    \"import sys, json; print(json.load(sys.stdin)['tunnels'][0]['public_url'])\""
      ],
      "execution_count": 8,
      "outputs": [
        {
          "output_type": "stream",
          "text": [
            "http://71f7f62fc758.ngrok.io\n"
          ],
          "name": "stdout"
        }
      ]
    },
    {
      "cell_type": "code",
      "metadata": {
        "id": "qBV_uG8NlMtg"
      },
      "source": [
        "#@title Run and stop this cell to manually stop the ngrok tunnel\n",
        "proc.join()"
      ],
      "execution_count": null,
      "outputs": []
    }
  ]
}